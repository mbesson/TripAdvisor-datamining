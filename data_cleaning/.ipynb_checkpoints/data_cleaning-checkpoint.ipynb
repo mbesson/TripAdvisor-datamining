{
 "cells": [
  {
   "cell_type": "code",
   "execution_count": 6,
   "metadata": {
    "collapsed": false
   },
   "outputs": [],
   "source": [
    "import re\n",
    "import pandas as pd\n",
    "import json\n",
    "import os \n",
    "import time\n",
    "\n",
    "def review_cleaning(path,path_out):\n",
    "    \"\"\"Load data in the folder path, clean them and save the cleaned data in the folder path_out\"\"\"\n",
    "    tps1 = time.clock() \n",
    "    \n",
    "    # Loading of the stop words list\n",
    "    stp_w = pd.read_csv(\"english.txt\", header=None,delimiter=\"\\n\", quoting=3)\n",
    "    english_stop_words = [word for word in stp_w[0]]\n",
    "        \n",
    "    # Loading of the files in path\n",
    "    file_list =[f for f in os.listdir(path)] # in this case, path = 'json_original/'\n",
    "    \n",
    "    for f in file_list:\n",
    "        # We open the json file\n",
    "        with open(path+f) as data:\n",
    "            dt = json.load(data)\n",
    "            \n",
    "        hotel_id = dt['HotelInfo']['HotelID']\n",
    "        \n",
    "        ids = [review['ReviewID'] for review in dt['Reviews']]\n",
    "        \n",
    "        # We clean an lower the words\n",
    "        reviews = [re.sub(\"[^a-zA-Z]\", \" \",review['Content']).lower().split() for review in dt['Reviews']]\n",
    "        # We remove stop words\n",
    "        reviews = [[word for word in review if word not in set(english_stop_words)]\n",
    "                    for review in reviews]\n",
    "        \n",
    "        # We create a dictionary with the ids and the reviews\n",
    "        reviews = dict(zip(ids,reviews))\n",
    "        \n",
    "        # We remove the bad reviews that contains the word showreview\n",
    "        kept_reviews = {el:reviews[el] for el in reviews if 'showreview' not in reviews[el]}\n",
    "        \n",
    "        ids = [el for el in kept_reviews]\n",
    "        content = [kept_reviews[el] for el in kept_reviews]\n",
    "        \n",
    "        # We save the data\n",
    "        output = pd.DataFrame({\"ReviewID\":ids,\"Content\":content}).to_csv(path_out+hotel_id+'.csv', index=False)\n",
    "        \n",
    "    tps2 = time.clock() \n",
    "    print ('Cleaning done in %.3f'%(tps2-tps1))"
   ]
  },
  {
   "cell_type": "code",
   "execution_count": null,
   "metadata": {
    "collapsed": false
   },
   "outputs": [],
   "source": [
    "review_cleaning('json_original/','cleaned_data/')"
   ]
  },
  {
   "cell_type": "code",
   "execution_count": null,
   "metadata": {
    "collapsed": true
   },
   "outputs": [],
   "source": []
  }
 ],
 "metadata": {
  "kernelspec": {
   "display_name": "Python 2",
   "language": "python",
   "name": "python2"
  },
  "language_info": {
   "codemirror_mode": {
    "name": "ipython",
    "version": 2
   },
   "file_extension": ".py",
   "mimetype": "text/x-python",
   "name": "python",
   "nbconvert_exporter": "python",
   "pygments_lexer": "ipython2",
   "version": "2.7.10"
  }
 },
 "nbformat": 4,
 "nbformat_minor": 0
}
