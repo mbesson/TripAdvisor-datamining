{
 "cells": [
  {
   "cell_type": "markdown",
   "metadata": {},
   "source": [
    "# Analyse des Sentiments\n",
    "\n",
    "## 1. Introduction\n",
    "\n",
    "L'analyse des sentiments, apparue au début des années 2000, permet d'analyser de gros volumes de données afin d'extraire des ressentis ou des opinions. L'objectif est de pouvoir produire des statistiques et des outils d'aide à la décision. Les domaines d'applications sont nombreux et nous pouvons par exemple citer la finance, la politique où le marketing (liste non exhaustive).\n",
    "\n",
    "L'apprentissage automatique (ou machine learning), supervisé ou non, est un outil utilisé pour l'analyse des sentiments. Dans ce rapport, nous allons traiter l'analyse des sentiments via deux problèmes classiques de machine learning, la [classification](https://en.wikipedia.org/wiki/Statistical_classification) et le [clustering](https://en.wikipedia.org/wiki/Cluster_analysis). Nous utiliserons la bibliothèque python [scikit-learn](http://scikit-learn.org/stable/) mais les méthodes utilisées peuvent être facilement appliquées avec d'autres librairies ; ce qui compte c'est la démarche.\n",
    "\n",
    "## 2. Pré-processing\n",
    "\n",
    "### 2.1. Généralités\n",
    "\n",
    "L'étape d'analyse des données est facilitée par les nombreuses bibliothèques disponibles qui sont souvent très intuitives. En revanche, l'étape qui précède l'analyse, le nettoyage des données, est souvent plus longue mais nécessaire. En effet, les données que l'on récupère sont parfois incomplètes, contiennent des caractères inutiles (par exemple des balises HTML) ou n'ont pas toutes la même structure. Et c'est le cas pour les données de [TripAdvisor](http://times.cs.uiuc.edu/~wang296/Data/). Cette étape est donc un passage obligatoire pour avoir des données propres, ce qui est fondamental pour faire de l'apprentissage de façon fiable et confortable. Toutefois, ce n'est pas l'objet de ce document, nous ne nous attarderons donc pas sur ce point.\n",
    "\n",
    "Une fois que les données sont nettoyées, il ne reste que le texte brut. Néanmoins, certains mots ne sont pas pertinents comme les stop words. L'élimination des stop words est souvent implémentée dans les bibliothèques d'apprentissage toutefois, on peut facilement trouver les [stop words](http://www.ranks.nl/stopwords) d'une langue particulière en cas de besoin.\n",
    "\n",
    "Enfin, les algorithmes de machine learning n'acceptent en entrée que des données numériques. Avant de pouvoir faire de l'apprentissage sur du texte, il est donc nécessaire de transformer les mots en nombres. L'approche [Bag of Words](https://en.wikipedia.org/wiki/Bag-of-words_model) (BoW) permet cette transformation et nous allons la détailler dans la section suivante.\n",
    "\n",
    "### 2.2. L'approche Bag of Words\n",
    "\n",
    "Nous avons à notre disposition un corpus de documents, dans notre cas, un ensemble d'avis. La mèthode BoW est constituée de deux étapes : l'apprentissage du vocabulaire et le comptage de l'occurrence de chaque mot. \n",
    "\n",
    "Lors de l'apprentissage du vocabulaire, l'algorithme BoW parcourt l'ensemble du corpus et retient les mots les plus fréquemment utilisés. Dans la plupart des implémentations, il est possible de paramétrer le nombre maximum de mots à intégrer dans le vocabulaire. \n",
    "\n",
    "Ensuite, pour chaque document, on compte l'occurrence de chaque mot du vocabulaire. Il est souvent plus judicieux de calculer la fréquence de chaque mot plutôt que le nombre d'occurrences. En effet, si nous avons deux documents, un long et un court, traitant du même sujet, le nombre d'apparitions de chaque mot dans chaque document sera différent, conduisant à deux vecteurs différents.\n",
    "\n",
    "Avec scikit-learn, on procède de la [manière suivante](http://scikit-learn.org/stable/modules/generated/sklearn.feature_extraction.text.TfidfVectorizer.html) : "
   ]
  },
  {
   "cell_type": "code",
   "execution_count": 2,
   "metadata": {
    "collapsed": false
   },
   "outputs": [
    {
     "name": "stdout",
     "output_type": "stream",
     "text": [
      "area\n",
      "beach\n",
      "bed\n",
      "breakfast\n",
      "clean\n",
      "day\n",
      "food\n",
      "friendly\n",
      "location\n",
      "night\n",
      "place\n",
      "pool\n",
      "resort\n",
      "room\n",
      "rooms\n",
      "service\n",
      "small\n",
      "staff\n",
      "time\n",
      "walk\n"
     ]
    }
   ],
   "source": [
    "# La fonction TfidfVectorizer permet d'implémenter l'approche Bag of Words.\n",
    "from sklearn.feature_extraction.text import TfidfVectorizer \n",
    "\n",
    "# On initialise le vectorizer. Le paramètre \"analyzer\" permet de scpécifier ce que nous allons analyser, soit des mots, soit des\n",
    "# mots composés (n-grams). Dans notre cas, les reviews sont en anglais, on supprime donc tous les stop words anglais. Enfin, nous\n",
    "# n'analysons pas tous les mots, on se contente des 20 les plus utilisés, pour que cette exemple soit \"montrable\". En pratique, \n",
    "# max_features = 5000 serait largement suffisant.\n",
    "vect = TfidfVectorizer(analyzer = \"word\",stop_words='english',max_features = 20)\n",
    "\n",
    "# Une fois qu'on a réalisé l'initialisation, on peut analyser notre corpus de documents.\n",
    "vect.fit_transform(corpus)\n",
    "\n",
    "# On affiche les 20 mots le splus utilisés\n",
    "for word in vect.get_feature_names():\n",
    "    print word"
   ]
  },
  {
   "cell_type": "markdown",
   "metadata": {},
   "source": [
    "Les mots ci-dessus constituent le vocabulaire qui servira de base pour les parties classification et clustering. On remarque que ce n'est peut-être pas un vocabulaire optimal. En effet, on constate la présence des mots \"room\" et \"rooms\", il serait donc judicieux de raffiner un peu la partie pré-taitement pour prendre en compte les pluriels."
   ]
  },
  {
   "cell_type": "markdown",
   "metadata": {},
   "source": [
    "## 3. Classification\n",
    "\n",
    "L'objectif de cette section est de classifier les avis des différents hôtels en fonction des deux catégories : positif (1) ou négatif (0). Pour ce faire, nous allons utiliser une [machine à vecteur de support](https://en.wikipedia.org/wiki/Support_vector_machine) (SVM). C'est une méthode classique pour les problèmes de classification. Bien sûr, il en existe d'autres, comme les [forêts aléatoires](https://en.wikipedia.org/wiki/Random_forest) mais le point important n'est pas la méthode mais la démarche qui pourra être appliquée avec n'importe quel outil de classification.\n",
    "\n",
    "Tout d'abord, on initialise le classifeur."
   ]
  },
  {
   "cell_type": "code",
   "execution_count": 3,
   "metadata": {
    "collapsed": true
   },
   "outputs": [],
   "source": [
    "from sklearn.linear_model import SGDClassifier\n",
    "from sklearn.pipeline import Pipeline\n",
    "\n",
    "clf = SGDClassifier(loss='hinge', penalty='l2',alpha=1e-4, n_iter=50, random_state=42)\n",
    "\n",
    "# Afin de gagner du temps, on peut aussi déclarer une pipeline de la façon suivante\n",
    "clf = Pipeline([('vect', TfidfVectorizer(analyzer = \"word\",stop_words='english',max_features = 5000)),\n",
    "                ('clf', SGDClassifier(loss='hinge', penalty='l2',alpha=1e-4, n_iter=50, random_state=42))])"
   ]
  },
  {
   "cell_type": "markdown",
   "metadata": {},
   "source": [
    "Dans notre cas, nous avons sélectionné un classifieur linéaire, toutefois il est possible de choisir des classifieurs non-linéaires.\n",
    "\n",
    "La première étape de tout problème d'apprentissage supervisé consiste à entraîner le modèle sur une base d'avis dont nous connaissons déjà la classe (0 ou 1). Trouver une telle base peut être difficile si nous n'en possédons pas déjà. De plus, la construire serait fastidieux car, pour que le modèle soit bien entraîné, elle doit être volumineuse. Dans cet exemple, nous allons entraîner notre modèle sur une base contenant les classifications d'avis cinématographiques. Cela peut paraître surprenant puisque nous voulons classifier des avis concernant des hôtels. Néanmoins, un avis, qu'ils concerne un film, un hôtel, une voiture, contiendra le même type de vocabulaire s'il est positif ou s'il est négatif. C'est pourquoi notre façon de procéder reste valide.\n",
    "\n",
    "Avant de passer à l'apprentissage, nous avons séparé le fichier de données, contenant 25000 reviews, en deux fichiers de 20000 et 5000 reviews respectivement. L'objectif est d'analyser les performances du modèle en validant l'apprentissage à partir des 20000 reviews sur les 5000.\n",
    "\n",
    "Avec scikit-learn, la partie apprentissage est réalisée de la façon suivante."
   ]
  },
  {
   "cell_type": "code",
   "execution_count": 4,
   "metadata": {
    "collapsed": false
   },
   "outputs": [
    {
     "name": "stdout",
     "output_type": "stream",
     "text": [
      "Apprentissage réalisé en 5.452 seconds\n",
      "\n",
      "Prédictions réalisées en 1.175 seconds\n",
      "\n",
      "Taux de bonnes prédictions : 91.46 \n",
      "\n",
      "Matrice de confusion :\n"
     ]
    },
    {
     "data": {
      "text/plain": [
       "array([[2243,  218],\n",
       "       [ 209, 2330]])"
      ]
     },
     "execution_count": 4,
     "metadata": {},
     "output_type": "execute_result"
    }
   ],
   "source": [
    "import time\n",
    "import numpy as np\n",
    "from sklearn import metrics\n",
    "\n",
    "# Chargement du fichier contenant les données d'apprentissage\n",
    "train = pd.read_csv(\"movies/train/labeledTrainData.csv\", header=0,delimiter=\",\")\n",
    "\n",
    "# Apprentissage\n",
    "tps1 = time.clock()\n",
    "clf = clf.fit(train[\"review\"],train[\"sentiment\"])\n",
    "tps2 = time.clock()\n",
    "\n",
    "print('Apprentissage réalisé en %.3f seconds'%(tps2-tps1))\n",
    "print\n",
    "\n",
    "# Prédictions\n",
    "test = pd.read_csv(\"movies/validation_data/test_validation.csv\", header=0,delimiter=',')\n",
    "tps1 = time.clock()\n",
    "result = clf.predict(test[\"review\"])\n",
    "tps2 = time.clock() \n",
    "print ('Prédictions réalisées en %.3f seconds'%(tps2 - tps1))\n",
    "print\n",
    "\n",
    "# Performances du classifieur\n",
    "valid = pd.read_csv(\"movies/validation_data/validation.csv\", header=0, delimiter=\",\") # Fichier contenant les sentiments valides \n",
    "print ('Taux de bonnes prédictions : %.2f '%(np.mean(result == valid[\"sentiment\"])*100))\n",
    "print\n",
    "print 'Matrice de confusion :'\n",
    "metrics.confusion_matrix(valid[\"sentiment\"],result)"
   ]
  },
  {
   "cell_type": "markdown",
   "metadata": {},
   "source": [
    "Le taux d'apprentissage est tout à fait satisfaisant. Maintenant, pour chaque review de chaque hôtel, il suffit d'appliquer le classifieur : clf.predict(my_hotel[\"review\"])."
   ]
  },
  {
   "cell_type": "markdown",
   "metadata": {},
   "source": [
    "## 4. Clustering\n",
    "\n",
    "Pour clusteriser les avis cinématographiques, nous allons utiliser la méthode des [K-means](https://en.wikipedia.org/wiki/K-means_clustering). Deux choix sont alors possibles. Soit nous pouvons utiliser le partitionnement K-means directement sur les revues (après avoir appliqué la méthode Bag of Words), soit nous pouvons d'abord extraire les sujets les plus discutés et les passer en paramètres de la méthode K-means. Avec la deuxième option, les centroïdes (centre des clusters) ne seront pas recherchés par la méthode des K-means. Cette dernière se contentera de regrouper les avis dans les catégories définies par les centroïdes. C'est cette dernière approche que nous allons utiliser.\n",
    "\n",
    "### 4.1. Extraction de sujets\n",
    "\n",
    "Pour extraire les principaux sujets, nous allons utiliser la méthode appelée [Non-Negative Matrix Factorization](https://en.wikipedia.org/wiki/Non-negative_matrix_factorization) (NMF). Encore une fois, il n'y a pas unicité dans le choix de la méthode, nous pourrions très bien utiliser l'approche [Latent Dirichlet Allocation](https://en.wikipedia.org/wiki/Latent_Dirichlet_allocation) (LDA)."
   ]
  },
  {
   "cell_type": "code",
   "execution_count": 9,
   "metadata": {
    "collapsed": false
   },
   "outputs": [
    {
     "name": "stdout",
     "output_type": "stream",
     "text": [
      "Topic #0:\n",
      "room bed bathroom floor view\n",
      "Topic #1:\n",
      "resort food beautiful people time\n",
      "Topic #2:\n",
      "beach food beautiful restaurants water\n",
      "Topic #3:\n",
      "service excellent food restaurant experience\n",
      "Topic #4:\n",
      "rooms small clean lobby large\n",
      "Topic #5:\n",
      "night time day check people\n",
      "Topic #6:\n",
      "staff friendly wonderful clean recommend\n",
      "Topic #7:\n",
      "pool area bar view lobby\n",
      "Topic #8:\n",
      "location breakfast clean walk close\n",
      "Topic #9:\n",
      "place people don better food\n"
     ]
    }
   ],
   "source": [
    "from sklearn.decomposition import NMF\n",
    "import random\n",
    "\n",
    "n_samples = 1000 # Nombre d'échantillons que l'on veut analyser pour extraire des sujets\n",
    "n_features = 50 # Nombre de mots que l'on veut dans le vocabulaire pour le BoW\n",
    "n_topics = 10 # Nombre de sujets que l'on veut extraire      \n",
    "n_top_words = 5 # Nombre de mots les plus représentatifs d'un sujet (pour l'affichage)\n",
    "\n",
    "file_list =[f for f in os.listdir(\"data/\")] # On récupère la liste des fichiers contenus dans le dossier data\n",
    "samples_id = [file_list[id] for id in random.sample(range(len(file_list)), n_samples)] # On en séléctionne n_samples au hasard\n",
    "\n",
    "# Mise en forme des reviews pour les passer en paramètre des différentes fonctions.\n",
    "reviews = []\n",
    "for f in samples_id:\n",
    "    review = pd.read_csv(\"data/\"+f, header=0,delimiter=\",\")\n",
    "    reviews.append([review[\"Content\"][i] for i in range(len(review))])  \n",
    "    \n",
    "reviews = [el for index in range(len(reviews))\n",
    "              for el in reviews[index]]\n",
    "\n",
    "# Vectorisation des avis.\n",
    "vect = TfidfVectorizer(analyzer = \"word\",stop_words=\"english\",max_features = n_features)\n",
    "BoW = vect.fit_transform(reviews)\n",
    "\n",
    "# Extraction des sujets\n",
    "nmf = NMF(n_components=n_topics, tol = 1e-5,random_state=1).fit(BoW)\n",
    "\n",
    "# On affiche les 5 mots les plus représentatifs de chaque sujets\n",
    "for topic_idx, topic in enumerate(nmf.components_):\n",
    "    print(\"Topic #%d:\" % topic_idx)\n",
    "    print(\" \".join([vect.get_feature_names()[i] for i in topic.argsort()[:-n_top_words - 1:-1]]))"
   ]
  },
  {
   "cell_type": "markdown",
   "metadata": {},
   "source": [
    "Encore une fois, nous pouvons remarquer que l'étape de pré-traitement pourrait-être plus soignée. Malgré cela, la NFM est capable d'extraire quelques sujets pertinents comme par exemple le sujet 9 concernant la location.\n",
    "\n",
    "### 4.2. Regroupement des reviews\n",
    "\n",
    "Maintenant que nous avons identifié les sujets les plus importants, nous allons regrouper tous les avis de tous les hôtels dans les 10 catégories extraites à l'étape précédente. Les résultats seront enregistrés dans le dossier \"clustering\", nous conserverons le nom du fichier d'origine. Le format des fichiers de sortie sera {ReviewID:Cluster}, où Cluster sera un entier allant de 0 à 9."
   ]
  },
  {
   "cell_type": "code",
   "execution_count": 11,
   "metadata": {
    "collapsed": false
   },
   "outputs": [
    {
     "name": "stdout",
     "output_type": "stream",
     "text": [
      "Clustering réalisé en 67.601 seconds\n"
     ]
    }
   ],
   "source": [
    "from sklearn.cluster import KMeans\n",
    "\n",
    "# Définition de la pipeline\n",
    "km_clf = Pipeline([('vect', TfidfVectorizer(analyzer = \"word\",stop_words='english',max_features = n_features)),\n",
    "                   ('clf', KMeans(init=nmf.components_, max_iter=20, n_init=1))])\n",
    "\n",
    "# Apprentissage avec les k-means\n",
    "file_list =[f for f in os.listdir(\"data/\")]\n",
    "\n",
    "tps1 = time.clock() \n",
    "for f in file_list:\n",
    "    dt = pd.read_csv(\"data/\"+f,header=0,delimiter=',')\n",
    "        \n",
    "    if len(dt[\"Content\"])>nmf.components_.shape[0]:\n",
    "        km_clf.fit(dt[\"Content\"])\n",
    "        output = pd.DataFrame({\"id\":dt[\"ReviewID\"], \"cluster\":km_clf.named_steps['clf'].labels_} ).to_csv(\"clustering/\"+f, index=False, quoting=3 )\n",
    "            \n",
    "tps2 = time.clock()\n",
    "print (\"Clustering réalisé en %.3f seconds\"%(tps2 - tps1))"
   ]
  },
  {
   "cell_type": "markdown",
   "metadata": {},
   "source": [
    "Une fois le clustering effectué, on peut afficher, pour chaque hôtel, le nombre d'avis dans chaque cluster. Dans notre cas, on va se contenter des 20 premiers hôtels.\n",
    "\n",
    "Tout d'abord, on calcul, pour chaque hôtel, combien de reviews on compte par cluster."
   ]
  },
  {
   "cell_type": "code",
   "execution_count": 12,
   "metadata": {
    "collapsed": false
   },
   "outputs": [],
   "source": [
    "# Génération de la heat map pour les 20 premiers hotels\n",
    "file_list =[f for f in os.listdir(\"clustering/\")]\n",
    "\n",
    "heat = []\n",
    "\n",
    "count = 0\n",
    "for f in file_list:\n",
    "    if count == 20: # Ce compteur est là pour ne prendre en compte que les 20 premiers hotels.\n",
    "        break\n",
    "    \n",
    "    data = pd.read_csv(\"clustering/\"+f, header=0, delimiter=\",\")\n",
    "    \n",
    "    clusters = [0 for i in range(n_topics)]\n",
    "\n",
    "    for i in data[\"cluster\"]:\n",
    "        clusters[i] += 1\n",
    "    \n",
    "    heat.append(clusters)\n",
    "    count +=1\n",
    "    \n",
    "heat = np.array(heat)"
   ]
  },
  {
   "cell_type": "markdown",
   "metadata": {},
   "source": [
    "Ensuite, on réalise la heatmap (il y a des moyens plus simple, là, le but était juste de customiser un peu l'affichage)."
   ]
  },
  {
   "cell_type": "code",
   "execution_count": 13,
   "metadata": {
    "collapsed": false
   },
   "outputs": [
    {
     "data": {
      "image/png": "[encoded data removed]",
      "text/plain": [
       "<matplotlib.figure.Figure at 0x2e7c2400>"
      ]
     },
     "metadata": {},
     "output_type": "display_data"
    }
   ],
   "source": [
    "# Affichage de la heatmap\n",
    "import matplotlib.pyplot as plt\n",
    "from urllib2 import urlopen \n",
    "%matplotlib inline\n",
    "\n",
    "fig, ax = plt.subplots()\n",
    "heatmap = ax.pcolor(heat, cmap=plt.cm.Blues, alpha=0.8)\n",
    "\n",
    "# Format de la fenêtre d'affichage\n",
    "fig = plt.gcf()\n",
    "fig.set_size_inches(15,17)\n",
    "ax.set_frame_on(False)\n",
    "\n",
    "# On positionne les labels des axes au milieu des cellules\n",
    "ax.set_yticks(np.arange(heat.shape[0])+0.5, minor=False)\n",
    "ax.set_xticks(np.arange(heat.shape[1])+0.5, minor=False)\n",
    "\n",
    "# Affichage \"tableau\"\n",
    "ax.invert_yaxis()\n",
    "ax.xaxis.tick_top()\n",
    "\n",
    "# Labels\n",
    "labels_x = ['Topic '+ str(i) for i in range(n_topics)]\n",
    "labels_y = ['Hotel '+ str(i) for i in range(heat.shape[0])]\n",
    "ax.set_xticklabels(labels_x, minor=False) \n",
    "ax.set_yticklabels(labels_y, minor=False)\n",
    "\n",
    "ax.grid(False)\n",
    "\n",
    "# On supprime les tirets\n",
    "ax = plt.gca()\n",
    "\n",
    "for t in ax.xaxis.get_major_ticks(): \n",
    "    t.tick1On = False \n",
    "    t.tick2On = False \n",
    "for t in ax.yaxis.get_major_ticks(): \n",
    "    t.tick1On = False \n",
    "    t.tick2On = False "
   ]
  }
 ],
 "metadata": {
  "kernelspec": {
   "display_name": "Python 2",
   "language": "python",
   "name": "python2"
  },
  "language_info": {
   "codemirror_mode": {
    "name": "ipython",
    "version": 2
   },
   "file_extension": ".py",
   "mimetype": "text/x-python",
   "name": "python",
   "nbconvert_exporter": "python",
   "pygments_lexer": "ipython2",
   "version": "2.7.10"
  }
 },
 "nbformat": 4,
 "nbformat_minor": 0
}
